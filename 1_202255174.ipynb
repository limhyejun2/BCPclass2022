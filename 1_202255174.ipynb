{
  "nbformat": 4,
  "nbformat_minor": 0,
  "metadata": {
    "colab": {
      "name": "1-202255174",
      "provenance": [],
      "authorship_tag": "ABX9TyMg2wjTFeJYc7X8zx6JGh8n",
      "include_colab_link": true
    },
    "kernelspec": {
      "name": "python3",
      "display_name": "Python 3"
    },
    "language_info": {
      "name": "python"
    }
  },
  "cells": [
    {
      "cell_type": "markdown",
      "metadata": {
        "id": "view-in-github",
        "colab_type": "text"
      },
      "source": [
        "<a href=\"https://colab.research.google.com/github/limhyejun2/BCPclass2022/blob/main/1_202255174.ipynb\" target=\"_parent\"><img src=\"https://colab.research.google.com/assets/colab-badge.svg\" alt=\"Open In Colab\"/></a>"
      ]
    },
    {
      "cell_type": "code",
      "execution_count": null,
      "metadata": {
        "id": "HefAk3v1ixKB"
      },
      "outputs": [],
      "source": [
        "C= float(input())\n",
        "F=(C*9/5)+32\n",
        "\n",
        "print(f\"화씨 {F}도는 섭씨{C}도이다.\")"
      ]
    }
  ]
}